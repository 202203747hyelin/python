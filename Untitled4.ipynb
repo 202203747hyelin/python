{
  "nbformat": 4,
  "nbformat_minor": 0,
  "metadata": {
    "colab": {
      "provenance": [],
      "collapsed_sections": [],
      "authorship_tag": "ABX9TyO4C2Zu0vBBm8N+3g6LVn+T",
      "include_colab_link": true
    },
    "kernelspec": {
      "name": "python3",
      "display_name": "Python 3"
    },
    "language_info": {
      "name": "python"
    }
  },
  "cells": [
    {
      "cell_type": "markdown",
      "metadata": {
        "id": "view-in-github",
        "colab_type": "text"
      },
      "source": [
        "<a href=\"https://colab.research.google.com/github/202203747hyelin/python/blob/main/Untitled4.ipynb\" target=\"_parent\"><img src=\"https://colab.research.google.com/assets/colab-badge.svg\" alt=\"Open In Colab\"/></a>"
      ]
    },
    {
      "cell_type": "code",
      "execution_count": null,
      "metadata": {
        "colab": {
          "base_uri": "https://localhost:8080/"
        },
        "id": "F9ZoAu_5HNVy",
        "outputId": "def172be-472c-48d0-d8f9-70fcc1bd06e4"
      },
      "outputs": [
        {
          "output_type": "stream",
          "name": "stdout",
          "text": [
            "수:97\n",
            "너무 많습니다.\n"
          ]
        }
      ],
      "source": [
        "##202203747 한혜린\n",
        "\n",
        "X=int(input(\"수:\"))\n",
        "\n",
        "i=0\n",
        "if X<=30:\n",
        "  while i<X:\n",
        "    print((\"*\"*(i))+str(i+1))\n",
        "\n",
        "    i+=1\n",
        "\n",
        "else:\n",
        "  print(\"너무 많습니다.\")"
      ]
    }
  ]
}