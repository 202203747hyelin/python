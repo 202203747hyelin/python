{
  "nbformat": 4,
  "nbformat_minor": 0,
  "metadata": {
    "colab": {
      "provenance": [],
      "collapsed_sections": [],
      "authorship_tag": "ABX9TyNEdB4djUKgFaa5X/7P9Z5l",
      "include_colab_link": true
    },
    "kernelspec": {
      "name": "python3",
      "display_name": "Python 3"
    },
    "language_info": {
      "name": "python"
    }
  },
  "cells": [
    {
      "cell_type": "markdown",
      "metadata": {
        "id": "view-in-github",
        "colab_type": "text"
      },
      "source": [
        "<a href=\"https://colab.research.google.com/github/202203747hyelin/python/blob/main/Untitled3.ipynb\" target=\"_parent\"><img src=\"https://colab.research.google.com/assets/colab-badge.svg\" alt=\"Open In Colab\"/></a>"
      ]
    },
    {
      "cell_type": "code",
      "execution_count": null,
      "metadata": {
        "colab": {
          "base_uri": "https://localhost:8080/"
        },
        "id": "V31ZBKE1_LZk",
        "outputId": "270e4b8c-1465-48ab-8bbc-5c3daa47e5d4"
      },
      "outputs": [
        {
          "output_type": "stream",
          "name": "stdout",
          "text": [
            "자연수 한 개를 입력하세요:1\n",
            "계속 입력을 원하시면 자연수 한 개를 입력하시고, 아니라면 0을 입력하세요:95\n",
            "계속 입력을 원하시면 자연수 한 개를 입력하시고, 아니라면 0을 입력하세요:621\n",
            "계속 입력을 원하시면 자연수 한 개를 입력하시고, 아니라면 0을 입력하세요:84\n",
            "계속 입력을 원하시면 자연수 한 개를 입력하시고, 아니라면 0을 입력하세요:67186\n",
            "계속 입력을 원하시면 자연수 한 개를 입력하시고, 아니라면 0을 입력하세요:12\n",
            "계속 입력을 원하시면 자연수 한 개를 입력하시고, 아니라면 0을 입력하세요:45\n",
            "계속 입력을 원하시면 자연수 한 개를 입력하시고, 아니라면 0을 입력하세요:32\n",
            "계속 입력을 원하시면 자연수 한 개를 입력하시고, 아니라면 0을 입력하세요:5\n",
            "계속 입력을 원하시면 자연수 한 개를 입력하시고, 아니라면 0을 입력하세요:3\n",
            "계속 입력을 원하시면 자연수 한 개를 입력하시고, 아니라면 0을 입력하세요:76\n",
            "계속 입력을 원하시면 자연수 한 개를 입력하시고, 아니라면 0을 입력하세요:8\n",
            "계속 입력을 원하시면 자연수 한 개를 입력하시고, 아니라면 0을 입력하세요:0\n",
            "당신이 입력한 숫자는 큰 것부터 순서대로 말한다면 아래와 같습니다.\n",
            "[67186, 621, 95, 84, 76, 45, 32, 12, 8, 5, 3, 1]\n"
          ]
        }
      ],
      "source": [
        "##202203747 한혜린\n",
        "\n",
        "Y=[]\n",
        "\n",
        "X=int(input(\"자연수 한 개를 입력하세요:\"))\n",
        "Y.append(X)\n",
        "\n",
        "for i in range(99):\n",
        "  X=int(input(\"계속 입력을 원하시면 자연수 한 개를 입력하시고, 아니라면 0을 입력하세요:\"))\n",
        "  if X==0:\n",
        "    break\n",
        "  Y.append(X)\n",
        "if len(Y)==100:\n",
        "  print(\"이제 그만하세요. 벌써 100개를 입력했어요.\")\n",
        "\n",
        "for j in range(len(Y)):\n",
        "  for k in range(j+1, len(Y)):\n",
        "    if Y[j]<Y[k]:\n",
        "      Y[j], Y[k] = Y[k], Y[j]\n",
        "print(\"당신이 입력한 숫자는 큰 것부터 순서대로 말한다면 아래와 같습니다.\")\n",
        "print(Y)"
      ]
    },
    {
      "cell_type": "code",
      "source": [
        "()"
      ],
      "metadata": {
        "id": "dDSPf0xi_xWd"
      },
      "execution_count": null,
      "outputs": []
    }
  ]
}