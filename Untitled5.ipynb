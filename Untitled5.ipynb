{
  "nbformat": 4,
  "nbformat_minor": 0,
  "metadata": {
    "colab": {
      "provenance": [],
      "collapsed_sections": [],
      "authorship_tag": "ABX9TyOR5n6JDYDhFPUgpQ2sMwMH",
      "include_colab_link": true
    },
    "kernelspec": {
      "name": "python3",
      "display_name": "Python 3"
    },
    "language_info": {
      "name": "python"
    }
  },
  "cells": [
    {
      "cell_type": "markdown",
      "metadata": {
        "id": "view-in-github",
        "colab_type": "text"
      },
      "source": [
        "<a href=\"https://colab.research.google.com/github/202203747hyelin/python/blob/main/Untitled5.ipynb\" target=\"_parent\"><img src=\"https://colab.research.google.com/assets/colab-badge.svg\" alt=\"Open In Colab\"/></a>"
      ]
    },
    {
      "cell_type": "code",
      "execution_count": null,
      "metadata": {
        "colab": {
          "base_uri": "https://localhost:8080/"
        },
        "id": "LWHO0YBka7jL",
        "outputId": "24c40a38-64e8-4b3c-edca-501daa2c8f2a"
      },
      "outputs": [
        {
          "output_type": "stream",
          "name": "stdout",
          "text": [
            "a의 수:18\n",
            "b의 수:3\n",
            "1\n",
            "b는 a의 약수이지만, a가 아니다.\n"
          ]
        }
      ],
      "source": [
        "## 202203747_한혜린\n",
        "\n",
        "def f(a,b):\n",
        "  if a%b==0:\n",
        "    print(1)\n",
        "    return 1\n",
        "  else:\n",
        "    print(0)\n",
        "    return 0\n",
        "\n",
        "a = int(input(\"a의 수:\"))\n",
        "b = int(input(\"b의 수:\"))\n",
        "\n",
        "if a==b:\n",
        "  print(\"a와 b는 같은 숫자이다.\")\n",
        "\n",
        "else:\n",
        "  if (a>b):\n",
        "    if f(a,b) == 1:\n",
        "      print(\"b는 a의 약수이지만, a가 아니다.\")\n",
        "    else:\n",
        "      print(\"a와 b는 서로의 약수가 아니다.\")\n",
        "    \n",
        "  if (a<b):\n",
        "    if f(b,a) == 1:\n",
        "      print(\"a는 b의 약수이지만, b가 아니다.\")\n",
        "    else:\n",
        "      print(\"a와 b는 서로의 약수가 아니다.\")"
      ]
    }
  ]
}